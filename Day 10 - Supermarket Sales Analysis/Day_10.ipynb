{
 "cells": [
  {
   "cell_type": "code",
   "execution_count": 38,
   "id": "e69d54d6",
   "metadata": {},
   "outputs": [],
   "source": [
    "import pandas as pd\n",
    "import numpy as np\n",
    "import matplotlib.pyplot as plt\n",
    "import seaborn as sns\n",
    "%matplotlib inline\n"
   ]
  },
  {
   "cell_type": "code",
   "execution_count": 39,
   "id": "ac2b433b",
   "metadata": {},
   "outputs": [
    {
     "data": {
      "application/vnd.microsoft.datawrangler.viewer.v0+json": {
       "columns": [
        {
         "name": "index",
         "rawType": "int64",
         "type": "integer"
        },
        {
         "name": "Invoice ID",
         "rawType": "int64",
         "type": "integer"
        },
        {
         "name": "Branch",
         "rawType": "object",
         "type": "string"
        },
        {
         "name": "City",
         "rawType": "object",
         "type": "string"
        },
        {
         "name": "Customer Type",
         "rawType": "object",
         "type": "string"
        },
        {
         "name": "Gender",
         "rawType": "object",
         "type": "string"
        },
        {
         "name": "Product Line",
         "rawType": "object",
         "type": "string"
        },
        {
         "name": "Unit Price",
         "rawType": "float64",
         "type": "float"
        },
        {
         "name": "Quantity",
         "rawType": "int64",
         "type": "integer"
        },
        {
         "name": "Tax 5%",
         "rawType": "float64",
         "type": "float"
        },
        {
         "name": "Total",
         "rawType": "float64",
         "type": "float"
        },
        {
         "name": "Date",
         "rawType": "object",
         "type": "string"
        },
        {
         "name": "Payment",
         "rawType": "object",
         "type": "string"
        },
        {
         "name": "Rating",
         "rawType": "float64",
         "type": "float"
        }
       ],
       "ref": "a69fc37f-9401-4b2c-97c2-9b120a8580f1",
       "rows": [
        [
         "0",
         "352860",
         "C",
         "Naypyitaw",
         "Normal",
         "Female",
         "Home and lifestyle",
         "53.63",
         "5",
         "13.407500000000002",
         "281.55750000000006",
         "2023-01-15",
         "Ewallet",
         "7.3"
        ],
        [
         "1",
         "720146",
         "A",
         "Yangon",
         "Member",
         "Male",
         "Health and beauty",
         "56.12",
         "4",
         "11.224",
         "235.704",
         "2023-01-21",
         "Credit card",
         "8.4"
        ],
        [
         "2",
         "660949",
         "C",
         "Yangon",
         "Member",
         "Female",
         "Electronic accessories",
         "76.75",
         "6",
         "23.025",
         "483.525",
         "2023-01-19",
         "Cash",
         "7.7"
        ],
        [
         "3",
         "516775",
         "C",
         "Yangon",
         "Normal",
         "Male",
         "Sports and travel",
         "72.9",
         "3",
         "10.935000000000002",
         "229.635",
         "2023-03-01",
         "Credit card",
         "5.1"
        ],
        [
         "4",
         "936824",
         "A",
         "Yangon",
         "Member",
         "Female",
         "Home and lifestyle",
         "46.23",
         "9",
         "20.8035",
         "436.8735",
         "2023-03-30",
         "Credit card",
         "6.1"
        ]
       ],
       "shape": {
        "columns": 13,
        "rows": 5
       }
      },
      "text/html": [
       "<div>\n",
       "<style scoped>\n",
       "    .dataframe tbody tr th:only-of-type {\n",
       "        vertical-align: middle;\n",
       "    }\n",
       "\n",
       "    .dataframe tbody tr th {\n",
       "        vertical-align: top;\n",
       "    }\n",
       "\n",
       "    .dataframe thead th {\n",
       "        text-align: right;\n",
       "    }\n",
       "</style>\n",
       "<table border=\"1\" class=\"dataframe\">\n",
       "  <thead>\n",
       "    <tr style=\"text-align: right;\">\n",
       "      <th></th>\n",
       "      <th>Invoice ID</th>\n",
       "      <th>Branch</th>\n",
       "      <th>City</th>\n",
       "      <th>Customer Type</th>\n",
       "      <th>Gender</th>\n",
       "      <th>Product Line</th>\n",
       "      <th>Unit Price</th>\n",
       "      <th>Quantity</th>\n",
       "      <th>Tax 5%</th>\n",
       "      <th>Total</th>\n",
       "      <th>Date</th>\n",
       "      <th>Payment</th>\n",
       "      <th>Rating</th>\n",
       "    </tr>\n",
       "  </thead>\n",
       "  <tbody>\n",
       "    <tr>\n",
       "      <th>0</th>\n",
       "      <td>352860</td>\n",
       "      <td>C</td>\n",
       "      <td>Naypyitaw</td>\n",
       "      <td>Normal</td>\n",
       "      <td>Female</td>\n",
       "      <td>Home and lifestyle</td>\n",
       "      <td>53.63</td>\n",
       "      <td>5</td>\n",
       "      <td>13.4075</td>\n",
       "      <td>281.5575</td>\n",
       "      <td>2023-01-15</td>\n",
       "      <td>Ewallet</td>\n",
       "      <td>7.3</td>\n",
       "    </tr>\n",
       "    <tr>\n",
       "      <th>1</th>\n",
       "      <td>720146</td>\n",
       "      <td>A</td>\n",
       "      <td>Yangon</td>\n",
       "      <td>Member</td>\n",
       "      <td>Male</td>\n",
       "      <td>Health and beauty</td>\n",
       "      <td>56.12</td>\n",
       "      <td>4</td>\n",
       "      <td>11.2240</td>\n",
       "      <td>235.7040</td>\n",
       "      <td>2023-01-21</td>\n",
       "      <td>Credit card</td>\n",
       "      <td>8.4</td>\n",
       "    </tr>\n",
       "    <tr>\n",
       "      <th>2</th>\n",
       "      <td>660949</td>\n",
       "      <td>C</td>\n",
       "      <td>Yangon</td>\n",
       "      <td>Member</td>\n",
       "      <td>Female</td>\n",
       "      <td>Electronic accessories</td>\n",
       "      <td>76.75</td>\n",
       "      <td>6</td>\n",
       "      <td>23.0250</td>\n",
       "      <td>483.5250</td>\n",
       "      <td>2023-01-19</td>\n",
       "      <td>Cash</td>\n",
       "      <td>7.7</td>\n",
       "    </tr>\n",
       "    <tr>\n",
       "      <th>3</th>\n",
       "      <td>516775</td>\n",
       "      <td>C</td>\n",
       "      <td>Yangon</td>\n",
       "      <td>Normal</td>\n",
       "      <td>Male</td>\n",
       "      <td>Sports and travel</td>\n",
       "      <td>72.90</td>\n",
       "      <td>3</td>\n",
       "      <td>10.9350</td>\n",
       "      <td>229.6350</td>\n",
       "      <td>2023-03-01</td>\n",
       "      <td>Credit card</td>\n",
       "      <td>5.1</td>\n",
       "    </tr>\n",
       "    <tr>\n",
       "      <th>4</th>\n",
       "      <td>936824</td>\n",
       "      <td>A</td>\n",
       "      <td>Yangon</td>\n",
       "      <td>Member</td>\n",
       "      <td>Female</td>\n",
       "      <td>Home and lifestyle</td>\n",
       "      <td>46.23</td>\n",
       "      <td>9</td>\n",
       "      <td>20.8035</td>\n",
       "      <td>436.8735</td>\n",
       "      <td>2023-03-30</td>\n",
       "      <td>Credit card</td>\n",
       "      <td>6.1</td>\n",
       "    </tr>\n",
       "  </tbody>\n",
       "</table>\n",
       "</div>"
      ],
      "text/plain": [
       "   Invoice ID Branch       City Customer Type  Gender            Product Line  \\\n",
       "0      352860      C  Naypyitaw        Normal  Female      Home and lifestyle   \n",
       "1      720146      A     Yangon        Member    Male       Health and beauty   \n",
       "2      660949      C     Yangon        Member  Female  Electronic accessories   \n",
       "3      516775      C     Yangon        Normal    Male       Sports and travel   \n",
       "4      936824      A     Yangon        Member  Female      Home and lifestyle   \n",
       "\n",
       "   Unit Price  Quantity   Tax 5%     Total        Date      Payment  Rating  \n",
       "0       53.63         5  13.4075  281.5575  2023-01-15      Ewallet     7.3  \n",
       "1       56.12         4  11.2240  235.7040  2023-01-21  Credit card     8.4  \n",
       "2       76.75         6  23.0250  483.5250  2023-01-19         Cash     7.7  \n",
       "3       72.90         3  10.9350  229.6350  2023-03-01  Credit card     5.1  \n",
       "4       46.23         9  20.8035  436.8735  2023-03-30  Credit card     6.1  "
      ]
     },
     "execution_count": 39,
     "metadata": {},
     "output_type": "execute_result"
    }
   ],
   "source": [
    "df=pd.read_csv(\"supermarket_sales.csv\")\n",
    "df.head(5)"
   ]
  },
  {
   "cell_type": "code",
   "execution_count": 40,
   "id": "8be7b546",
   "metadata": {},
   "outputs": [
    {
     "data": {
      "application/vnd.microsoft.datawrangler.viewer.v0+json": {
       "columns": [
        {
         "name": "index",
         "rawType": "object",
         "type": "string"
        },
        {
         "name": "Invoice ID",
         "rawType": "float64",
         "type": "float"
        },
        {
         "name": "Unit Price",
         "rawType": "float64",
         "type": "float"
        },
        {
         "name": "Quantity",
         "rawType": "float64",
         "type": "float"
        },
        {
         "name": "Tax 5%",
         "rawType": "float64",
         "type": "float"
        },
        {
         "name": "Total",
         "rawType": "float64",
         "type": "float"
        },
        {
         "name": "Rating",
         "rawType": "float64",
         "type": "float"
        }
       ],
       "ref": "d76e676e-a99b-4cc1-80be-c915e02359ed",
       "rows": [
        [
         "count",
         "300.0",
         "300.0",
         "300.0",
         "300.0",
         "300.0",
         "300.0"
        ],
        [
         "mean",
         "542011.68",
         "55.60656666666667",
         "4.993333333333333",
         "13.789403333333333",
         "289.57747",
         "7.033333333333333"
        ],
        [
         "std",
         "266617.6932800927",
         "27.243700751691474",
         "2.6501635380008883",
         "10.551001107963947",
         "221.57102326724288",
         "1.6967080724644734"
        ],
        [
         "min",
         "109155.0",
         "10.02",
         "1.0",
         "0.5105000000000001",
         "10.7205",
         "4.0"
        ],
        [
         "25%",
         "293977.75",
         "32.4475",
         "2.75",
         "5.2017500000000005",
         "109.23675",
         "5.6"
        ],
        [
         "50%",
         "553417.5",
         "56.730000000000004",
         "5.0",
         "10.76725",
         "226.11225000000002",
         "7.1"
        ],
        [
         "75%",
         "765930.25",
         "79.39",
         "7.0",
         "20.821875",
         "437.259375",
         "8.5"
        ],
        [
         "max",
         "997207.0",
         "99.94",
         "9.0",
         "44.65350000000001",
         "937.7235",
         "10.0"
        ]
       ],
       "shape": {
        "columns": 6,
        "rows": 8
       }
      },
      "text/html": [
       "<div>\n",
       "<style scoped>\n",
       "    .dataframe tbody tr th:only-of-type {\n",
       "        vertical-align: middle;\n",
       "    }\n",
       "\n",
       "    .dataframe tbody tr th {\n",
       "        vertical-align: top;\n",
       "    }\n",
       "\n",
       "    .dataframe thead th {\n",
       "        text-align: right;\n",
       "    }\n",
       "</style>\n",
       "<table border=\"1\" class=\"dataframe\">\n",
       "  <thead>\n",
       "    <tr style=\"text-align: right;\">\n",
       "      <th></th>\n",
       "      <th>Invoice ID</th>\n",
       "      <th>Unit Price</th>\n",
       "      <th>Quantity</th>\n",
       "      <th>Tax 5%</th>\n",
       "      <th>Total</th>\n",
       "      <th>Rating</th>\n",
       "    </tr>\n",
       "  </thead>\n",
       "  <tbody>\n",
       "    <tr>\n",
       "      <th>count</th>\n",
       "      <td>300.00000</td>\n",
       "      <td>300.000000</td>\n",
       "      <td>300.000000</td>\n",
       "      <td>300.000000</td>\n",
       "      <td>300.000000</td>\n",
       "      <td>300.000000</td>\n",
       "    </tr>\n",
       "    <tr>\n",
       "      <th>mean</th>\n",
       "      <td>542011.68000</td>\n",
       "      <td>55.606567</td>\n",
       "      <td>4.993333</td>\n",
       "      <td>13.789403</td>\n",
       "      <td>289.577470</td>\n",
       "      <td>7.033333</td>\n",
       "    </tr>\n",
       "    <tr>\n",
       "      <th>std</th>\n",
       "      <td>266617.69328</td>\n",
       "      <td>27.243701</td>\n",
       "      <td>2.650164</td>\n",
       "      <td>10.551001</td>\n",
       "      <td>221.571023</td>\n",
       "      <td>1.696708</td>\n",
       "    </tr>\n",
       "    <tr>\n",
       "      <th>min</th>\n",
       "      <td>109155.00000</td>\n",
       "      <td>10.020000</td>\n",
       "      <td>1.000000</td>\n",
       "      <td>0.510500</td>\n",
       "      <td>10.720500</td>\n",
       "      <td>4.000000</td>\n",
       "    </tr>\n",
       "    <tr>\n",
       "      <th>25%</th>\n",
       "      <td>293977.75000</td>\n",
       "      <td>32.447500</td>\n",
       "      <td>2.750000</td>\n",
       "      <td>5.201750</td>\n",
       "      <td>109.236750</td>\n",
       "      <td>5.600000</td>\n",
       "    </tr>\n",
       "    <tr>\n",
       "      <th>50%</th>\n",
       "      <td>553417.50000</td>\n",
       "      <td>56.730000</td>\n",
       "      <td>5.000000</td>\n",
       "      <td>10.767250</td>\n",
       "      <td>226.112250</td>\n",
       "      <td>7.100000</td>\n",
       "    </tr>\n",
       "    <tr>\n",
       "      <th>75%</th>\n",
       "      <td>765930.25000</td>\n",
       "      <td>79.390000</td>\n",
       "      <td>7.000000</td>\n",
       "      <td>20.821875</td>\n",
       "      <td>437.259375</td>\n",
       "      <td>8.500000</td>\n",
       "    </tr>\n",
       "    <tr>\n",
       "      <th>max</th>\n",
       "      <td>997207.00000</td>\n",
       "      <td>99.940000</td>\n",
       "      <td>9.000000</td>\n",
       "      <td>44.653500</td>\n",
       "      <td>937.723500</td>\n",
       "      <td>10.000000</td>\n",
       "    </tr>\n",
       "  </tbody>\n",
       "</table>\n",
       "</div>"
      ],
      "text/plain": [
       "         Invoice ID  Unit Price    Quantity      Tax 5%       Total  \\\n",
       "count     300.00000  300.000000  300.000000  300.000000  300.000000   \n",
       "mean   542011.68000   55.606567    4.993333   13.789403  289.577470   \n",
       "std    266617.69328   27.243701    2.650164   10.551001  221.571023   \n",
       "min    109155.00000   10.020000    1.000000    0.510500   10.720500   \n",
       "25%    293977.75000   32.447500    2.750000    5.201750  109.236750   \n",
       "50%    553417.50000   56.730000    5.000000   10.767250  226.112250   \n",
       "75%    765930.25000   79.390000    7.000000   20.821875  437.259375   \n",
       "max    997207.00000   99.940000    9.000000   44.653500  937.723500   \n",
       "\n",
       "           Rating  \n",
       "count  300.000000  \n",
       "mean     7.033333  \n",
       "std      1.696708  \n",
       "min      4.000000  \n",
       "25%      5.600000  \n",
       "50%      7.100000  \n",
       "75%      8.500000  \n",
       "max     10.000000  "
      ]
     },
     "execution_count": 40,
     "metadata": {},
     "output_type": "execute_result"
    }
   ],
   "source": [
    "df.describe()"
   ]
  },
  {
   "cell_type": "code",
   "execution_count": 41,
   "id": "f6488315",
   "metadata": {},
   "outputs": [
    {
     "data": {
      "text/plain": [
       "<bound method DataFrame.info of      Invoice ID Branch       City Customer Type  Gender  \\\n",
       "0        352860      C  Naypyitaw        Normal  Female   \n",
       "1        720146      A     Yangon        Member    Male   \n",
       "2        660949      C     Yangon        Member  Female   \n",
       "3        516775      C     Yangon        Normal    Male   \n",
       "4        936824      A     Yangon        Member  Female   \n",
       "..          ...    ...        ...           ...     ...   \n",
       "295      700013      B     Yangon        Member  Female   \n",
       "296      730655      B  Naypyitaw        Member  Female   \n",
       "297      248506      B     Yangon        Member  Female   \n",
       "298      274927      B  Naypyitaw        Member  Female   \n",
       "299      386273      B     Yangon        Normal    Male   \n",
       "\n",
       "               Product Line  Unit Price  Quantity   Tax 5%     Total  \\\n",
       "0        Home and lifestyle       53.63         5  13.4075  281.5575   \n",
       "1         Health and beauty       56.12         4  11.2240  235.7040   \n",
       "2    Electronic accessories       76.75         6  23.0250  483.5250   \n",
       "3         Sports and travel       72.90         3  10.9350  229.6350   \n",
       "4        Home and lifestyle       46.23         9  20.8035  436.8735   \n",
       "..                      ...         ...       ...      ...       ...   \n",
       "295  Electronic accessories       88.12         7  30.8420  647.6820   \n",
       "296     Fashion accessories       96.69         9  43.5105  913.7205   \n",
       "297      Home and lifestyle       12.82         5   3.2050   67.3050   \n",
       "298     Fashion accessories       75.81         1   3.7905   79.6005   \n",
       "299       Health and beauty       91.86         7  32.1510  675.1710   \n",
       "\n",
       "           Date      Payment  Rating  \n",
       "0    2023-01-15      Ewallet     7.3  \n",
       "1    2023-01-21  Credit card     8.4  \n",
       "2    2023-01-19         Cash     7.7  \n",
       "3    2023-03-01  Credit card     5.1  \n",
       "4    2023-03-30  Credit card     6.1  \n",
       "..          ...          ...     ...  \n",
       "295  2023-03-07      Ewallet     8.0  \n",
       "296  2023-01-25  Credit card     5.6  \n",
       "297  2023-02-23  Credit card     9.4  \n",
       "298  2023-02-02      Ewallet     8.0  \n",
       "299  2023-02-05         Cash     7.4  \n",
       "\n",
       "[300 rows x 13 columns]>"
      ]
     },
     "execution_count": 41,
     "metadata": {},
     "output_type": "execute_result"
    }
   ],
   "source": [
    "df.info"
   ]
  },
  {
   "cell_type": "code",
   "execution_count": 42,
   "id": "758edfd5",
   "metadata": {},
   "outputs": [
    {
     "data": {
      "text/plain": [
       "(300, 13)"
      ]
     },
     "execution_count": 42,
     "metadata": {},
     "output_type": "execute_result"
    }
   ],
   "source": [
    "df.shape"
   ]
  },
  {
   "cell_type": "code",
   "execution_count": 43,
   "id": "60623052",
   "metadata": {},
   "outputs": [
    {
     "data": {
      "text/plain": [
       "Index(['Invoice ID', 'Branch', 'City', 'Customer Type', 'Gender',\n",
       "       'Product Line', 'Unit Price', 'Quantity', 'Tax 5%', 'Total', 'Date',\n",
       "       'Payment', 'Rating'],\n",
       "      dtype='object')"
      ]
     },
     "execution_count": 43,
     "metadata": {},
     "output_type": "execute_result"
    }
   ],
   "source": [
    "df.columns"
   ]
  },
  {
   "cell_type": "code",
   "execution_count": 44,
   "id": "75570fc3",
   "metadata": {},
   "outputs": [
    {
     "data": {
      "application/vnd.microsoft.datawrangler.viewer.v0+json": {
       "columns": [
        {
         "name": "index",
         "rawType": "object",
         "type": "string"
        },
        {
         "name": "0",
         "rawType": "int64",
         "type": "integer"
        }
       ],
       "ref": "2969135f-0b2b-4e3f-a321-3f0d3f25f9a1",
       "rows": [
        [
         "Invoice ID",
         "0"
        ],
        [
         "Branch",
         "0"
        ],
        [
         "City",
         "0"
        ],
        [
         "Customer Type",
         "0"
        ],
        [
         "Gender",
         "0"
        ],
        [
         "Product Line",
         "0"
        ],
        [
         "Unit Price",
         "0"
        ],
        [
         "Quantity",
         "0"
        ],
        [
         "Tax 5%",
         "0"
        ],
        [
         "Total",
         "0"
        ],
        [
         "Date",
         "0"
        ],
        [
         "Payment",
         "0"
        ],
        [
         "Rating",
         "0"
        ]
       ],
       "shape": {
        "columns": 1,
        "rows": 13
       }
      },
      "text/plain": [
       "Invoice ID       0\n",
       "Branch           0\n",
       "City             0\n",
       "Customer Type    0\n",
       "Gender           0\n",
       "Product Line     0\n",
       "Unit Price       0\n",
       "Quantity         0\n",
       "Tax 5%           0\n",
       "Total            0\n",
       "Date             0\n",
       "Payment          0\n",
       "Rating           0\n",
       "dtype: int64"
      ]
     },
     "execution_count": 44,
     "metadata": {},
     "output_type": "execute_result"
    }
   ],
   "source": [
    "df.isnull().sum()"
   ]
  },
  {
   "cell_type": "markdown",
   "id": "ac163621",
   "metadata": {},
   "source": [
    "# Unique Values"
   ]
  },
  {
   "cell_type": "code",
   "execution_count": 46,
   "id": "899d1175",
   "metadata": {},
   "outputs": [
    {
     "data": {
      "application/vnd.microsoft.datawrangler.viewer.v0+json": {
       "columns": [
        {
         "name": "Gender",
         "rawType": "object",
         "type": "string"
        },
        {
         "name": "count",
         "rawType": "int64",
         "type": "integer"
        }
       ],
       "ref": "b87197fd-28c9-47f7-82ca-622dd3f10cf2",
       "rows": [
        [
         "Female",
         "150"
        ],
        [
         "Male",
         "150"
        ]
       ],
       "shape": {
        "columns": 1,
        "rows": 2
       }
      },
      "text/plain": [
       "Gender\n",
       "Female    150\n",
       "Male      150\n",
       "Name: count, dtype: int64"
      ]
     },
     "execution_count": 46,
     "metadata": {},
     "output_type": "execute_result"
    }
   ],
   "source": [
    "df['Gender'].nunique()\n",
    "df[\"Gender\"].unique()\n",
    "df['Gender'].value_counts()"
   ]
  },
  {
   "cell_type": "code",
   "execution_count": 47,
   "id": "beabb501",
   "metadata": {},
   "outputs": [
    {
     "data": {
      "application/vnd.microsoft.datawrangler.viewer.v0+json": {
       "columns": [
        {
         "name": "Branch",
         "rawType": "object",
         "type": "string"
        },
        {
         "name": "count",
         "rawType": "int64",
         "type": "integer"
        }
       ],
       "ref": "91f1babd-a0c8-489c-a48a-16619723cb36",
       "rows": [
        [
         "C",
         "107"
        ],
        [
         "A",
         "99"
        ],
        [
         "B",
         "94"
        ]
       ],
       "shape": {
        "columns": 1,
        "rows": 3
       }
      },
      "text/plain": [
       "Branch\n",
       "C    107\n",
       "A     99\n",
       "B     94\n",
       "Name: count, dtype: int64"
      ]
     },
     "execution_count": 47,
     "metadata": {},
     "output_type": "execute_result"
    }
   ],
   "source": [
    "df['Branch'].nunique()\n",
    "df[\"Branch\"].unique()\n",
    "df['Branch'].value_counts()"
   ]
  },
  {
   "cell_type": "code",
   "execution_count": 48,
   "id": "13bf1487",
   "metadata": {},
   "outputs": [
    {
     "data": {
      "application/vnd.microsoft.datawrangler.viewer.v0+json": {
       "columns": [
        {
         "name": "Product Line",
         "rawType": "object",
         "type": "string"
        },
        {
         "name": "count",
         "rawType": "int64",
         "type": "integer"
        }
       ],
       "ref": "82a99f94-f3ea-42e9-8e79-7bce3e79ff6e",
       "rows": [
        [
         "Home and lifestyle",
         "55"
        ],
        [
         "Fashion accessories",
         "53"
        ],
        [
         "Health and beauty",
         "52"
        ],
        [
         "Food and beverages",
         "50"
        ],
        [
         "Sports and travel",
         "46"
        ],
        [
         "Electronic accessories",
         "44"
        ]
       ],
       "shape": {
        "columns": 1,
        "rows": 6
       }
      },
      "text/plain": [
       "Product Line\n",
       "Home and lifestyle        55\n",
       "Fashion accessories       53\n",
       "Health and beauty         52\n",
       "Food and beverages        50\n",
       "Sports and travel         46\n",
       "Electronic accessories    44\n",
       "Name: count, dtype: int64"
      ]
     },
     "execution_count": 48,
     "metadata": {},
     "output_type": "execute_result"
    }
   ],
   "source": [
    "df['Product Line'].nunique()\n",
    "df[\"Product Line\"].unique()\n",
    "df['Product Line'].value_counts()"
   ]
  },
  {
   "cell_type": "markdown",
   "id": "54c85935",
   "metadata": {},
   "source": [
    "# Visualization"
   ]
  },
  {
   "cell_type": "code",
   "execution_count": 57,
   "id": "7cc255a2",
   "metadata": {},
   "outputs": [
    {
     "data": {
      "image/png": "[encoded data removed]",
      "text/plain": [
       "<Figure size 1000x600 with 1 Axes>"
      ]
     },
     "metadata": {},
     "output_type": "display_data"
    }
   ],
   "source": [
    "plt.figure(figsize=(10,6))\n",
    "sns.countplot(data=df,x='Branch')\n",
    "plt.title(\"Count of Transactions\")\n",
    "plt.xlabel(\"Branch\")\n",
    "plt.ylabel(\"Count\")\n",
    "plt.savefig(\"Transactions.png\")"
   ]
  },
  {
   "cell_type": "code",
   "execution_count": 56,
   "id": "e9ed5b78",
   "metadata": {},
   "outputs": [
    {
     "data": {
      "image/png": "[encoded data removed]",
      "text/plain": [
       "<Figure size 1000x600 with 1 Axes>"
      ]
     },
     "metadata": {},
     "output_type": "display_data"
    }
   ],
   "source": [
    "plt.figure(figsize=(10,6))\n",
    "plt.hist(df['Rating'],bins=20,edgecolor=\"black\")\n",
    "plt.title(\"Ratings\")\n",
    "plt.xlabel('Rating')\n",
    "plt.ylabel('Freq')\n",
    "plt.savefig(\"Ratings vs Freq .png\")"
   ]
  },
  {
   "cell_type": "code",
   "execution_count": 55,
   "id": "8d0916fe",
   "metadata": {},
   "outputs": [
    {
     "data": {
      "image/png": "[encoded data removed]",
      "text/plain": [
       "<Figure size 640x480 with 1 Axes>"
      ]
     },
     "metadata": {},
     "output_type": "display_data"
    }
   ],
   "source": [
    "plt.Figure(figsize=(10,6))\n",
    "sns.barplot(data=df,x='Gender',y='Total',estimator='mean')\n",
    "plt.title(\"Avg total by gender\")\n",
    "plt.savefig(\"mean gender.png\")"
   ]
  },
  {
   "cell_type": "code",
   "execution_count": 67,
   "id": "88d61a60",
   "metadata": {},
   "outputs": [
    {
     "data": {
      "text/plain": [
       "'Electronic accessories'"
      ]
     },
     "execution_count": 67,
     "metadata": {},
     "output_type": "execute_result"
    }
   ],
   "source": [
    "Top_Product = df.groupby('Product Line')['Rating'].mean().idxmax()\n",
    "Top_Product"
   ]
  },
  {
   "cell_type": "code",
   "execution_count": 69,
   "id": "092ca804",
   "metadata": {},
   "outputs": [
    {
     "data": {
      "text/plain": [
       "'C'"
      ]
     },
     "execution_count": 69,
     "metadata": {},
     "output_type": "execute_result"
    }
   ],
   "source": [
    "Top_branch=df.groupby('Branch')['Total'].sum().idxmax()\n",
    "Top_branch"
   ]
  },
  {
   "cell_type": "markdown",
   "id": "390f4f1e",
   "metadata": {},
   "source": [
    "# END #"
   ]
  },
  {
   "cell_type": "markdown",
   "id": "a6eff1c1",
   "metadata": {},
   "source": []
  }
 ],
 "metadata": {
  "kernelspec": {
   "display_name": "Python 3",
   "language": "python",
   "name": "python3"
  },
  "language_info": {
   "codemirror_mode": {
    "name": "ipython",
    "version": 3
   },
   "file_extension": ".py",
   "mimetype": "text/x-python",
   "name": "python",
   "nbconvert_exporter": "python",
   "pygments_lexer": "ipython3",
   "version": "3.12.10"
  }
 },
 "nbformat": 4,
 "nbformat_minor": 5
}
