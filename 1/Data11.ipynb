{
 "cells": [
  {
   "cell_type": "code",
   "id": "initial_id",
   "metadata": {
    "collapsed": true,
    "ExecuteTime": {
     "end_time": "2025-10-14T09:54:25.078694Z",
     "start_time": "2025-10-14T09:54:24.699387Z"
    }
   },
   "source": [
    "import pandas as pd\n",
    "import numpy as np\n",
    "import matplotlib.pyplot as plt\n"
   ],
   "outputs": [],
   "execution_count": 1
  },
  {
   "metadata": {
    "ExecuteTime": {
     "end_time": "2025-10-14T09:54:25.136226Z",
     "start_time": "2025-10-14T09:54:25.132905Z"
    }
   },
   "cell_type": "code",
   "source": [
    "\n",
    "print(pd.__version__)"
   ],
   "id": "de957ffc6265d92b",
   "outputs": [
    {
     "name": "stdout",
     "output_type": "stream",
     "text": [
      "2.1.4\n"
     ]
    }
   ],
   "execution_count": 2
  },
  {
   "metadata": {
    "ExecuteTime": {
     "end_time": "2025-10-14T09:54:25.211296Z",
     "start_time": "2025-10-14T09:54:25.206556Z"
    }
   },
   "cell_type": "code",
   "source": "df = pd.read_csv(\"Bank_Churn_Data_Dictionary.csv\")",
   "id": "8c1e90a8a10837f0",
   "outputs": [],
   "execution_count": 3
  },
  {
   "metadata": {
    "ExecuteTime": {
     "end_time": "2025-10-14T09:54:49.893851Z",
     "start_time": "2025-10-14T09:54:49.876430Z"
    }
   },
   "cell_type": "code",
   "source": " df.head(10)",
   "id": "7f34d6fc34a883c0",
   "outputs": [
    {
     "data": {
      "text/plain": [
       "           Field                                        Description\n",
       "0     CustomerId              A unique identifier for each customer\n",
       "1        Surname                           The customer's last name\n",
       "2    CreditScore  A numerical value representing the customer's ...\n",
       "3      Geography  The country where the customer resides (France...\n",
       "4         Gender             The customer's gender (Male or Female)\n",
       "5            Age                                 The customer's age\n",
       "6         Tenure  The number of years the customer has been with...\n",
       "7        Balance                     The customer's account balance\n",
       "8  NumOfProducts  The number of bank products the customer uses ...\n",
       "9      HasCrCard  Whether the customer has a credit card (1 = ye..."
      ],
      "text/html": [
       "<div>\n",
       "<style scoped>\n",
       "    .dataframe tbody tr th:only-of-type {\n",
       "        vertical-align: middle;\n",
       "    }\n",
       "\n",
       "    .dataframe tbody tr th {\n",
       "        vertical-align: top;\n",
       "    }\n",
       "\n",
       "    .dataframe thead th {\n",
       "        text-align: right;\n",
       "    }\n",
       "</style>\n",
       "<table border=\"1\" class=\"dataframe\">\n",
       "  <thead>\n",
       "    <tr style=\"text-align: right;\">\n",
       "      <th></th>\n",
       "      <th>Field</th>\n",
       "      <th>Description</th>\n",
       "    </tr>\n",
       "  </thead>\n",
       "  <tbody>\n",
       "    <tr>\n",
       "      <th>0</th>\n",
       "      <td>CustomerId</td>\n",
       "      <td>A unique identifier for each customer</td>\n",
       "    </tr>\n",
       "    <tr>\n",
       "      <th>1</th>\n",
       "      <td>Surname</td>\n",
       "      <td>The customer's last name</td>\n",
       "    </tr>\n",
       "    <tr>\n",
       "      <th>2</th>\n",
       "      <td>CreditScore</td>\n",
       "      <td>A numerical value representing the customer's ...</td>\n",
       "    </tr>\n",
       "    <tr>\n",
       "      <th>3</th>\n",
       "      <td>Geography</td>\n",
       "      <td>The country where the customer resides (France...</td>\n",
       "    </tr>\n",
       "    <tr>\n",
       "      <th>4</th>\n",
       "      <td>Gender</td>\n",
       "      <td>The customer's gender (Male or Female)</td>\n",
       "    </tr>\n",
       "    <tr>\n",
       "      <th>5</th>\n",
       "      <td>Age</td>\n",
       "      <td>The customer's age</td>\n",
       "    </tr>\n",
       "    <tr>\n",
       "      <th>6</th>\n",
       "      <td>Tenure</td>\n",
       "      <td>The number of years the customer has been with...</td>\n",
       "    </tr>\n",
       "    <tr>\n",
       "      <th>7</th>\n",
       "      <td>Balance</td>\n",
       "      <td>The customer's account balance</td>\n",
       "    </tr>\n",
       "    <tr>\n",
       "      <th>8</th>\n",
       "      <td>NumOfProducts</td>\n",
       "      <td>The number of bank products the customer uses ...</td>\n",
       "    </tr>\n",
       "    <tr>\n",
       "      <th>9</th>\n",
       "      <td>HasCrCard</td>\n",
       "      <td>Whether the customer has a credit card (1 = ye...</td>\n",
       "    </tr>\n",
       "  </tbody>\n",
       "</table>\n",
       "</div>"
      ]
     },
     "execution_count": 4,
     "metadata": {},
     "output_type": "execute_result"
    }
   ],
   "execution_count": 4
  },
  {
   "metadata": {
    "ExecuteTime": {
     "end_time": "2025-10-14T09:55:32.433375Z",
     "start_time": "2025-10-14T09:55:32.427821Z"
    }
   },
   "cell_type": "code",
   "source": "df.tail()",
   "id": "f098f302af4c2e06",
   "outputs": [
    {
     "data": {
      "text/plain": [
       "              Field                                        Description\n",
       "8     NumOfProducts  The number of bank products the customer uses ...\n",
       "9         HasCrCard  Whether the customer has a credit card (1 = ye...\n",
       "10   IsActiveMember  Whether the customer is an active member (1 = ...\n",
       "11  EstimatedSalary               The estimated salary of the customer\n",
       "12           Exited  Whether the customer has churned (1 = yes, 0 =..."
      ],
      "text/html": [
       "<div>\n",
       "<style scoped>\n",
       "    .dataframe tbody tr th:only-of-type {\n",
       "        vertical-align: middle;\n",
       "    }\n",
       "\n",
       "    .dataframe tbody tr th {\n",
       "        vertical-align: top;\n",
       "    }\n",
       "\n",
       "    .dataframe thead th {\n",
       "        text-align: right;\n",
       "    }\n",
       "</style>\n",
       "<table border=\"1\" class=\"dataframe\">\n",
       "  <thead>\n",
       "    <tr style=\"text-align: right;\">\n",
       "      <th></th>\n",
       "      <th>Field</th>\n",
       "      <th>Description</th>\n",
       "    </tr>\n",
       "  </thead>\n",
       "  <tbody>\n",
       "    <tr>\n",
       "      <th>8</th>\n",
       "      <td>NumOfProducts</td>\n",
       "      <td>The number of bank products the customer uses ...</td>\n",
       "    </tr>\n",
       "    <tr>\n",
       "      <th>9</th>\n",
       "      <td>HasCrCard</td>\n",
       "      <td>Whether the customer has a credit card (1 = ye...</td>\n",
       "    </tr>\n",
       "    <tr>\n",
       "      <th>10</th>\n",
       "      <td>IsActiveMember</td>\n",
       "      <td>Whether the customer is an active member (1 = ...</td>\n",
       "    </tr>\n",
       "    <tr>\n",
       "      <th>11</th>\n",
       "      <td>EstimatedSalary</td>\n",
       "      <td>The estimated salary of the customer</td>\n",
       "    </tr>\n",
       "    <tr>\n",
       "      <th>12</th>\n",
       "      <td>Exited</td>\n",
       "      <td>Whether the customer has churned (1 = yes, 0 =...</td>\n",
       "    </tr>\n",
       "  </tbody>\n",
       "</table>\n",
       "</div>"
      ]
     },
     "execution_count": 5,
     "metadata": {},
     "output_type": "execute_result"
    }
   ],
   "execution_count": 5
  },
  {
   "metadata": {
    "ExecuteTime": {
     "end_time": "2025-10-14T09:55:48.188307Z",
     "start_time": "2025-10-14T09:55:48.181472Z"
    }
   },
   "cell_type": "code",
   "source": "df.info()",
   "id": "f699b0819cc7415d",
   "outputs": [
    {
     "name": "stdout",
     "output_type": "stream",
     "text": [
      "<class 'pandas.core.frame.DataFrame'>\n",
      "RangeIndex: 13 entries, 0 to 12\n",
      "Data columns (total 2 columns):\n",
      " #   Column       Non-Null Count  Dtype \n",
      "---  ------       --------------  ----- \n",
      " 0   Field        13 non-null     object\n",
      " 1   Description  13 non-null     object\n",
      "dtypes: object(2)\n",
      "memory usage: 340.0+ bytes\n"
     ]
    }
   ],
   "execution_count": 6
  },
  {
   "metadata": {
    "ExecuteTime": {
     "end_time": "2025-10-14T09:56:02.417763Z",
     "start_time": "2025-10-14T09:56:02.412297Z"
    }
   },
   "cell_type": "code",
   "source": "df.describe()",
   "id": "3c0e6f93205d0121",
   "outputs": [
    {
     "data": {
      "text/plain": [
       "             Field                            Description\n",
       "count           13                                     13\n",
       "unique          13                                     13\n",
       "top     CustomerId  A unique identifier for each customer\n",
       "freq             1                                      1"
      ],
      "text/html": [
       "<div>\n",
       "<style scoped>\n",
       "    .dataframe tbody tr th:only-of-type {\n",
       "        vertical-align: middle;\n",
       "    }\n",
       "\n",
       "    .dataframe tbody tr th {\n",
       "        vertical-align: top;\n",
       "    }\n",
       "\n",
       "    .dataframe thead th {\n",
       "        text-align: right;\n",
       "    }\n",
       "</style>\n",
       "<table border=\"1\" class=\"dataframe\">\n",
       "  <thead>\n",
       "    <tr style=\"text-align: right;\">\n",
       "      <th></th>\n",
       "      <th>Field</th>\n",
       "      <th>Description</th>\n",
       "    </tr>\n",
       "  </thead>\n",
       "  <tbody>\n",
       "    <tr>\n",
       "      <th>count</th>\n",
       "      <td>13</td>\n",
       "      <td>13</td>\n",
       "    </tr>\n",
       "    <tr>\n",
       "      <th>unique</th>\n",
       "      <td>13</td>\n",
       "      <td>13</td>\n",
       "    </tr>\n",
       "    <tr>\n",
       "      <th>top</th>\n",
       "      <td>CustomerId</td>\n",
       "      <td>A unique identifier for each customer</td>\n",
       "    </tr>\n",
       "    <tr>\n",
       "      <th>freq</th>\n",
       "      <td>1</td>\n",
       "      <td>1</td>\n",
       "    </tr>\n",
       "  </tbody>\n",
       "</table>\n",
       "</div>"
      ]
     },
     "execution_count": 7,
     "metadata": {},
     "output_type": "execute_result"
    }
   ],
   "execution_count": 7
  },
  {
   "metadata": {
    "ExecuteTime": {
     "end_time": "2025-10-14T09:56:24.831753Z",
     "start_time": "2025-10-14T09:56:24.828890Z"
    }
   },
   "cell_type": "code",
   "source": [
    "\n",
    "df.columns"
   ],
   "id": "a16fb59ba3666ab7",
   "outputs": [
    {
     "data": {
      "text/plain": [
       "Index(['Field', 'Description'], dtype='object')"
      ]
     },
     "execution_count": 9,
     "metadata": {},
     "output_type": "execute_result"
    }
   ],
   "execution_count": 9
  },
  {
   "metadata": {
    "ExecuteTime": {
     "end_time": "2025-10-14T09:56:33.343631Z",
     "start_time": "2025-10-14T09:56:33.339526Z"
    }
   },
   "cell_type": "code",
   "source": "df.dtypes",
   "id": "51bc339ecc36787e",
   "outputs": [
    {
     "data": {
      "text/plain": [
       "Field          object\n",
       "Description    object\n",
       "dtype: object"
      ]
     },
     "execution_count": 10,
     "metadata": {},
     "output_type": "execute_result"
    }
   ],
   "execution_count": 10
  },
  {
   "metadata": {
    "ExecuteTime": {
     "end_time": "2025-10-14T09:57:07.216379Z",
     "start_time": "2025-10-14T09:57:07.213166Z"
    }
   },
   "cell_type": "code",
   "source": "df.shape",
   "id": "51fceeeffd4a527c",
   "outputs": [
    {
     "data": {
      "text/plain": [
       "(13, 2)"
      ]
     },
     "execution_count": 11,
     "metadata": {},
     "output_type": "execute_result"
    }
   ],
   "execution_count": 11
  },
  {
   "metadata": {
    "ExecuteTime": {
     "end_time": "2025-10-14T10:03:35.313980Z",
     "start_time": "2025-10-14T10:03:35.310690Z"
    }
   },
   "cell_type": "code",
   "source": "df.columns",
   "id": "b1ae8533caf89efc",
   "outputs": [
    {
     "data": {
      "text/plain": [
       "Index(['Field', 'Description'], dtype='object')"
      ]
     },
     "execution_count": 12,
     "metadata": {},
     "output_type": "execute_result"
    }
   ],
   "execution_count": 12
  },
  {
   "metadata": {
    "ExecuteTime": {
     "end_time": "2025-10-14T10:04:57.927018Z",
     "start_time": "2025-10-14T10:04:57.924821Z"
    }
   },
   "cell_type": "code",
   "source": "df.rename(columns={'Field': 'name'},inplace=True)",
   "id": "3187b5d68a2fe38d",
   "outputs": [],
   "execution_count": 13
  },
  {
   "metadata": {
    "ExecuteTime": {
     "end_time": "2025-10-14T10:05:07.552960Z",
     "start_time": "2025-10-14T10:05:07.549708Z"
    }
   },
   "cell_type": "code",
   "source": "df.columns",
   "id": "5725dd0ef0334230",
   "outputs": [
    {
     "data": {
      "text/plain": [
       "Index(['name', 'Description'], dtype='object')"
      ]
     },
     "execution_count": 14,
     "metadata": {},
     "output_type": "execute_result"
    }
   ],
   "execution_count": 14
  },
  {
   "metadata": {
    "ExecuteTime": {
     "end_time": "2025-10-14T10:06:43.559902Z",
     "start_time": "2025-10-14T10:06:43.554519Z"
    }
   },
   "cell_type": "code",
   "source": [
    "df.to_csv('copydata.csv',index=False)\n",
    "df.head()"
   ],
   "id": "734800cc14b537cf",
   "outputs": [
    {
     "data": {
      "text/plain": [
       "          name                                        Description\n",
       "0   CustomerId              A unique identifier for each customer\n",
       "1      Surname                           The customer's last name\n",
       "2  CreditScore  A numerical value representing the customer's ...\n",
       "3    Geography  The country where the customer resides (France...\n",
       "4       Gender             The customer's gender (Male or Female)"
      ],
      "text/html": [
       "<div>\n",
       "<style scoped>\n",
       "    .dataframe tbody tr th:only-of-type {\n",
       "        vertical-align: middle;\n",
       "    }\n",
       "\n",
       "    .dataframe tbody tr th {\n",
       "        vertical-align: top;\n",
       "    }\n",
       "\n",
       "    .dataframe thead th {\n",
       "        text-align: right;\n",
       "    }\n",
       "</style>\n",
       "<table border=\"1\" class=\"dataframe\">\n",
       "  <thead>\n",
       "    <tr style=\"text-align: right;\">\n",
       "      <th></th>\n",
       "      <th>name</th>\n",
       "      <th>Description</th>\n",
       "    </tr>\n",
       "  </thead>\n",
       "  <tbody>\n",
       "    <tr>\n",
       "      <th>0</th>\n",
       "      <td>CustomerId</td>\n",
       "      <td>A unique identifier for each customer</td>\n",
       "    </tr>\n",
       "    <tr>\n",
       "      <th>1</th>\n",
       "      <td>Surname</td>\n",
       "      <td>The customer's last name</td>\n",
       "    </tr>\n",
       "    <tr>\n",
       "      <th>2</th>\n",
       "      <td>CreditScore</td>\n",
       "      <td>A numerical value representing the customer's ...</td>\n",
       "    </tr>\n",
       "    <tr>\n",
       "      <th>3</th>\n",
       "      <td>Geography</td>\n",
       "      <td>The country where the customer resides (France...</td>\n",
       "    </tr>\n",
       "    <tr>\n",
       "      <th>4</th>\n",
       "      <td>Gender</td>\n",
       "      <td>The customer's gender (Male or Female)</td>\n",
       "    </tr>\n",
       "  </tbody>\n",
       "</table>\n",
       "</div>"
      ]
     },
     "execution_count": 17,
     "metadata": {},
     "output_type": "execute_result"
    }
   ],
   "execution_count": 17
  },
  {
   "metadata": {
    "ExecuteTime": {
     "end_time": "2025-10-14T10:07:24.556870Z",
     "start_time": "2025-10-14T10:07:24.553815Z"
    }
   },
   "cell_type": "code",
   "source": "df.isnull().sum()",
   "id": "ae602095c35fa9f9",
   "outputs": [
    {
     "data": {
      "text/plain": [
       "name           0\n",
       "Description    0\n",
       "dtype: int64"
      ]
     },
     "execution_count": 19,
     "metadata": {},
     "output_type": "execute_result"
    }
   ],
   "execution_count": 19
  },
  {
   "metadata": {
    "ExecuteTime": {
     "end_time": "2025-10-14T10:07:52.606146Z",
     "start_time": "2025-10-14T10:07:52.601292Z"
    }
   },
   "cell_type": "code",
   "source": "df.dropna()",
   "id": "68782a85c48755e7",
   "outputs": [
    {
     "data": {
      "text/plain": [
       "               name                                        Description\n",
       "0        CustomerId              A unique identifier for each customer\n",
       "1           Surname                           The customer's last name\n",
       "2       CreditScore  A numerical value representing the customer's ...\n",
       "3         Geography  The country where the customer resides (France...\n",
       "4            Gender             The customer's gender (Male or Female)\n",
       "5               Age                                 The customer's age\n",
       "6            Tenure  The number of years the customer has been with...\n",
       "7           Balance                     The customer's account balance\n",
       "8     NumOfProducts  The number of bank products the customer uses ...\n",
       "9         HasCrCard  Whether the customer has a credit card (1 = ye...\n",
       "10   IsActiveMember  Whether the customer is an active member (1 = ...\n",
       "11  EstimatedSalary               The estimated salary of the customer\n",
       "12           Exited  Whether the customer has churned (1 = yes, 0 =..."
      ],
      "text/html": [
       "<div>\n",
       "<style scoped>\n",
       "    .dataframe tbody tr th:only-of-type {\n",
       "        vertical-align: middle;\n",
       "    }\n",
       "\n",
       "    .dataframe tbody tr th {\n",
       "        vertical-align: top;\n",
       "    }\n",
       "\n",
       "    .dataframe thead th {\n",
       "        text-align: right;\n",
       "    }\n",
       "</style>\n",
       "<table border=\"1\" class=\"dataframe\">\n",
       "  <thead>\n",
       "    <tr style=\"text-align: right;\">\n",
       "      <th></th>\n",
       "      <th>name</th>\n",
       "      <th>Description</th>\n",
       "    </tr>\n",
       "  </thead>\n",
       "  <tbody>\n",
       "    <tr>\n",
       "      <th>0</th>\n",
       "      <td>CustomerId</td>\n",
       "      <td>A unique identifier for each customer</td>\n",
       "    </tr>\n",
       "    <tr>\n",
       "      <th>1</th>\n",
       "      <td>Surname</td>\n",
       "      <td>The customer's last name</td>\n",
       "    </tr>\n",
       "    <tr>\n",
       "      <th>2</th>\n",
       "      <td>CreditScore</td>\n",
       "      <td>A numerical value representing the customer's ...</td>\n",
       "    </tr>\n",
       "    <tr>\n",
       "      <th>3</th>\n",
       "      <td>Geography</td>\n",
       "      <td>The country where the customer resides (France...</td>\n",
       "    </tr>\n",
       "    <tr>\n",
       "      <th>4</th>\n",
       "      <td>Gender</td>\n",
       "      <td>The customer's gender (Male or Female)</td>\n",
       "    </tr>\n",
       "    <tr>\n",
       "      <th>5</th>\n",
       "      <td>Age</td>\n",
       "      <td>The customer's age</td>\n",
       "    </tr>\n",
       "    <tr>\n",
       "      <th>6</th>\n",
       "      <td>Tenure</td>\n",
       "      <td>The number of years the customer has been with...</td>\n",
       "    </tr>\n",
       "    <tr>\n",
       "      <th>7</th>\n",
       "      <td>Balance</td>\n",
       "      <td>The customer's account balance</td>\n",
       "    </tr>\n",
       "    <tr>\n",
       "      <th>8</th>\n",
       "      <td>NumOfProducts</td>\n",
       "      <td>The number of bank products the customer uses ...</td>\n",
       "    </tr>\n",
       "    <tr>\n",
       "      <th>9</th>\n",
       "      <td>HasCrCard</td>\n",
       "      <td>Whether the customer has a credit card (1 = ye...</td>\n",
       "    </tr>\n",
       "    <tr>\n",
       "      <th>10</th>\n",
       "      <td>IsActiveMember</td>\n",
       "      <td>Whether the customer is an active member (1 = ...</td>\n",
       "    </tr>\n",
       "    <tr>\n",
       "      <th>11</th>\n",
       "      <td>EstimatedSalary</td>\n",
       "      <td>The estimated salary of the customer</td>\n",
       "    </tr>\n",
       "    <tr>\n",
       "      <th>12</th>\n",
       "      <td>Exited</td>\n",
       "      <td>Whether the customer has churned (1 = yes, 0 =...</td>\n",
       "    </tr>\n",
       "  </tbody>\n",
       "</table>\n",
       "</div>"
      ]
     },
     "execution_count": 20,
     "metadata": {},
     "output_type": "execute_result"
    }
   ],
   "execution_count": 20
  },
  {
   "metadata": {
    "ExecuteTime": {
     "end_time": "2025-10-14T10:08:16.566802Z",
     "start_time": "2025-10-14T10:08:16.562649Z"
    }
   },
   "cell_type": "code",
   "source": "df.fillna(11)",
   "id": "b0f2e924ada17745",
   "outputs": [
    {
     "data": {
      "text/plain": [
       "               name                                        Description\n",
       "0        CustomerId              A unique identifier for each customer\n",
       "1           Surname                           The customer's last name\n",
       "2       CreditScore  A numerical value representing the customer's ...\n",
       "3         Geography  The country where the customer resides (France...\n",
       "4            Gender             The customer's gender (Male or Female)\n",
       "5               Age                                 The customer's age\n",
       "6            Tenure  The number of years the customer has been with...\n",
       "7           Balance                     The customer's account balance\n",
       "8     NumOfProducts  The number of bank products the customer uses ...\n",
       "9         HasCrCard  Whether the customer has a credit card (1 = ye...\n",
       "10   IsActiveMember  Whether the customer is an active member (1 = ...\n",
       "11  EstimatedSalary               The estimated salary of the customer\n",
       "12           Exited  Whether the customer has churned (1 = yes, 0 =..."
      ],
      "text/html": [
       "<div>\n",
       "<style scoped>\n",
       "    .dataframe tbody tr th:only-of-type {\n",
       "        vertical-align: middle;\n",
       "    }\n",
       "\n",
       "    .dataframe tbody tr th {\n",
       "        vertical-align: top;\n",
       "    }\n",
       "\n",
       "    .dataframe thead th {\n",
       "        text-align: right;\n",
       "    }\n",
       "</style>\n",
       "<table border=\"1\" class=\"dataframe\">\n",
       "  <thead>\n",
       "    <tr style=\"text-align: right;\">\n",
       "      <th></th>\n",
       "      <th>name</th>\n",
       "      <th>Description</th>\n",
       "    </tr>\n",
       "  </thead>\n",
       "  <tbody>\n",
       "    <tr>\n",
       "      <th>0</th>\n",
       "      <td>CustomerId</td>\n",
       "      <td>A unique identifier for each customer</td>\n",
       "    </tr>\n",
       "    <tr>\n",
       "      <th>1</th>\n",
       "      <td>Surname</td>\n",
       "      <td>The customer's last name</td>\n",
       "    </tr>\n",
       "    <tr>\n",
       "      <th>2</th>\n",
       "      <td>CreditScore</td>\n",
       "      <td>A numerical value representing the customer's ...</td>\n",
       "    </tr>\n",
       "    <tr>\n",
       "      <th>3</th>\n",
       "      <td>Geography</td>\n",
       "      <td>The country where the customer resides (France...</td>\n",
       "    </tr>\n",
       "    <tr>\n",
       "      <th>4</th>\n",
       "      <td>Gender</td>\n",
       "      <td>The customer's gender (Male or Female)</td>\n",
       "    </tr>\n",
       "    <tr>\n",
       "      <th>5</th>\n",
       "      <td>Age</td>\n",
       "      <td>The customer's age</td>\n",
       "    </tr>\n",
       "    <tr>\n",
       "      <th>6</th>\n",
       "      <td>Tenure</td>\n",
       "      <td>The number of years the customer has been with...</td>\n",
       "    </tr>\n",
       "    <tr>\n",
       "      <th>7</th>\n",
       "      <td>Balance</td>\n",
       "      <td>The customer's account balance</td>\n",
       "    </tr>\n",
       "    <tr>\n",
       "      <th>8</th>\n",
       "      <td>NumOfProducts</td>\n",
       "      <td>The number of bank products the customer uses ...</td>\n",
       "    </tr>\n",
       "    <tr>\n",
       "      <th>9</th>\n",
       "      <td>HasCrCard</td>\n",
       "      <td>Whether the customer has a credit card (1 = ye...</td>\n",
       "    </tr>\n",
       "    <tr>\n",
       "      <th>10</th>\n",
       "      <td>IsActiveMember</td>\n",
       "      <td>Whether the customer is an active member (1 = ...</td>\n",
       "    </tr>\n",
       "    <tr>\n",
       "      <th>11</th>\n",
       "      <td>EstimatedSalary</td>\n",
       "      <td>The estimated salary of the customer</td>\n",
       "    </tr>\n",
       "    <tr>\n",
       "      <th>12</th>\n",
       "      <td>Exited</td>\n",
       "      <td>Whether the customer has churned (1 = yes, 0 =...</td>\n",
       "    </tr>\n",
       "  </tbody>\n",
       "</table>\n",
       "</div>"
      ]
     },
     "execution_count": 22,
     "metadata": {},
     "output_type": "execute_result"
    }
   ],
   "execution_count": 22
  }
 ],
 "metadata": {
  "kernelspec": {
   "display_name": "Python 3",
   "language": "python",
   "name": "python3"
  },
  "language_info": {
   "codemirror_mode": {
    "name": "ipython",
    "version": 2
   },
   "file_extension": ".py",
   "mimetype": "text/x-python",
   "name": "python",
   "nbconvert_exporter": "python",
   "pygments_lexer": "ipython2",
   "version": "2.7.6"
  }
 },
 "nbformat": 4,
 "nbformat_minor": 5
}
