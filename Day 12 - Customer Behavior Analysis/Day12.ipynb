{
 "cells": [
  {
   "cell_type": "code",
   "execution_count": 1,
   "id": "b6472de0",
   "metadata": {},
   "outputs": [],
   "source": [
    "import pandas as pd\n",
    "import numpy as np\n",
    "import matplotlib.pyplot as plt\n",
    "import seaborn as sns\n",
    "%matplotlib inline"
   ]
  },
  {
   "cell_type": "code",
   "execution_count": 2,
   "id": "0ffff32b",
   "metadata": {},
   "outputs": [],
   "source": [
    "df=pd.read_csv('../Dataset/supermarket_sales.csv')"
   ]
  },
  {
   "cell_type": "code",
   "execution_count": 3,
   "id": "c9584a15",
   "metadata": {},
   "outputs": [
    {
     "data": {
      "application/vnd.microsoft.datawrangler.viewer.v0+json": {
       "columns": [
        {
         "name": "index",
         "rawType": "int64",
         "type": "integer"
        },
        {
         "name": "Invoice ID",
         "rawType": "int64",
         "type": "integer"
        },
        {
         "name": "Branch",
         "rawType": "object",
         "type": "string"
        },
        {
         "name": "City",
         "rawType": "object",
         "type": "string"
        },
        {
         "name": "Customer Type",
         "rawType": "object",
         "type": "string"
        },
        {
         "name": "Gender",
         "rawType": "object",
         "type": "string"
        },
        {
         "name": "Product Line",
         "rawType": "object",
         "type": "string"
        },
        {
         "name": "Unit Price",
         "rawType": "float64",
         "type": "float"
        },
        {
         "name": "Quantity",
         "rawType": "int64",
         "type": "integer"
        },
        {
         "name": "Tax 5%",
         "rawType": "float64",
         "type": "float"
        },
        {
         "name": "Total",
         "rawType": "float64",
         "type": "float"
        },
        {
         "name": "Date",
         "rawType": "object",
         "type": "string"
        },
        {
         "name": "Payment",
         "rawType": "object",
         "type": "string"
        },
        {
         "name": "Rating",
         "rawType": "float64",
         "type": "float"
        }
       ],
       "ref": "d9b7d334-8d48-4911-9916-2fb63ca4ef82",
       "rows": [
        [
         "0",
         "352860",
         "C",
         "Naypyitaw",
         "Normal",
         "Female",
         "Home and lifestyle",
         "53.63",
         "5",
         "13.407500000000002",
         "281.55750000000006",
         "2023-01-15",
         "Ewallet",
         "7.3"
        ],
        [
         "1",
         "720146",
         "A",
         "Yangon",
         "Member",
         "Male",
         "Health and beauty",
         "56.12",
         "4",
         "11.224",
         "235.704",
         "2023-01-21",
         "Credit card",
         "8.4"
        ],
        [
         "2",
         "660949",
         "C",
         "Yangon",
         "Member",
         "Female",
         "Electronic accessories",
         "76.75",
         "6",
         "23.025",
         "483.525",
         "2023-01-19",
         "Cash",
         "7.7"
        ],
        [
         "3",
         "516775",
         "C",
         "Yangon",
         "Normal",
         "Male",
         "Sports and travel",
         "72.9",
         "3",
         "10.935000000000002",
         "229.635",
         "2023-03-01",
         "Credit card",
         "5.1"
        ],
        [
         "4",
         "936824",
         "A",
         "Yangon",
         "Member",
         "Female",
         "Home and lifestyle",
         "46.23",
         "9",
         "20.8035",
         "436.8735",
         "2023-03-30",
         "Credit card",
         "6.1"
        ]
       ],
       "shape": {
        "columns": 13,
        "rows": 5
       }
      },
      "text/html": [
       "<div>\n",
       "<style scoped>\n",
       "    .dataframe tbody tr th:only-of-type {\n",
       "        vertical-align: middle;\n",
       "    }\n",
       "\n",
       "    .dataframe tbody tr th {\n",
       "        vertical-align: top;\n",
       "    }\n",
       "\n",
       "    .dataframe thead th {\n",
       "        text-align: right;\n",
       "    }\n",
       "</style>\n",
       "<table border=\"1\" class=\"dataframe\">\n",
       "  <thead>\n",
       "    <tr style=\"text-align: right;\">\n",
       "      <th></th>\n",
       "      <th>Invoice ID</th>\n",
       "      <th>Branch</th>\n",
       "      <th>City</th>\n",
       "      <th>Customer Type</th>\n",
       "      <th>Gender</th>\n",
       "      <th>Product Line</th>\n",
       "      <th>Unit Price</th>\n",
       "      <th>Quantity</th>\n",
       "      <th>Tax 5%</th>\n",
       "      <th>Total</th>\n",
       "      <th>Date</th>\n",
       "      <th>Payment</th>\n",
       "      <th>Rating</th>\n",
       "    </tr>\n",
       "  </thead>\n",
       "  <tbody>\n",
       "    <tr>\n",
       "      <th>0</th>\n",
       "      <td>352860</td>\n",
       "      <td>C</td>\n",
       "      <td>Naypyitaw</td>\n",
       "      <td>Normal</td>\n",
       "      <td>Female</td>\n",
       "      <td>Home and lifestyle</td>\n",
       "      <td>53.63</td>\n",
       "      <td>5</td>\n",
       "      <td>13.4075</td>\n",
       "      <td>281.5575</td>\n",
       "      <td>2023-01-15</td>\n",
       "      <td>Ewallet</td>\n",
       "      <td>7.3</td>\n",
       "    </tr>\n",
       "    <tr>\n",
       "      <th>1</th>\n",
       "      <td>720146</td>\n",
       "      <td>A</td>\n",
       "      <td>Yangon</td>\n",
       "      <td>Member</td>\n",
       "      <td>Male</td>\n",
       "      <td>Health and beauty</td>\n",
       "      <td>56.12</td>\n",
       "      <td>4</td>\n",
       "      <td>11.2240</td>\n",
       "      <td>235.7040</td>\n",
       "      <td>2023-01-21</td>\n",
       "      <td>Credit card</td>\n",
       "      <td>8.4</td>\n",
       "    </tr>\n",
       "    <tr>\n",
       "      <th>2</th>\n",
       "      <td>660949</td>\n",
       "      <td>C</td>\n",
       "      <td>Yangon</td>\n",
       "      <td>Member</td>\n",
       "      <td>Female</td>\n",
       "      <td>Electronic accessories</td>\n",
       "      <td>76.75</td>\n",
       "      <td>6</td>\n",
       "      <td>23.0250</td>\n",
       "      <td>483.5250</td>\n",
       "      <td>2023-01-19</td>\n",
       "      <td>Cash</td>\n",
       "      <td>7.7</td>\n",
       "    </tr>\n",
       "    <tr>\n",
       "      <th>3</th>\n",
       "      <td>516775</td>\n",
       "      <td>C</td>\n",
       "      <td>Yangon</td>\n",
       "      <td>Normal</td>\n",
       "      <td>Male</td>\n",
       "      <td>Sports and travel</td>\n",
       "      <td>72.90</td>\n",
       "      <td>3</td>\n",
       "      <td>10.9350</td>\n",
       "      <td>229.6350</td>\n",
       "      <td>2023-03-01</td>\n",
       "      <td>Credit card</td>\n",
       "      <td>5.1</td>\n",
       "    </tr>\n",
       "    <tr>\n",
       "      <th>4</th>\n",
       "      <td>936824</td>\n",
       "      <td>A</td>\n",
       "      <td>Yangon</td>\n",
       "      <td>Member</td>\n",
       "      <td>Female</td>\n",
       "      <td>Home and lifestyle</td>\n",
       "      <td>46.23</td>\n",
       "      <td>9</td>\n",
       "      <td>20.8035</td>\n",
       "      <td>436.8735</td>\n",
       "      <td>2023-03-30</td>\n",
       "      <td>Credit card</td>\n",
       "      <td>6.1</td>\n",
       "    </tr>\n",
       "  </tbody>\n",
       "</table>\n",
       "</div>"
      ],
      "text/plain": [
       "   Invoice ID Branch       City Customer Type  Gender            Product Line  \\\n",
       "0      352860      C  Naypyitaw        Normal  Female      Home and lifestyle   \n",
       "1      720146      A     Yangon        Member    Male       Health and beauty   \n",
       "2      660949      C     Yangon        Member  Female  Electronic accessories   \n",
       "3      516775      C     Yangon        Normal    Male       Sports and travel   \n",
       "4      936824      A     Yangon        Member  Female      Home and lifestyle   \n",
       "\n",
       "   Unit Price  Quantity   Tax 5%     Total        Date      Payment  Rating  \n",
       "0       53.63         5  13.4075  281.5575  2023-01-15      Ewallet     7.3  \n",
       "1       56.12         4  11.2240  235.7040  2023-01-21  Credit card     8.4  \n",
       "2       76.75         6  23.0250  483.5250  2023-01-19         Cash     7.7  \n",
       "3       72.90         3  10.9350  229.6350  2023-03-01  Credit card     5.1  \n",
       "4       46.23         9  20.8035  436.8735  2023-03-30  Credit card     6.1  "
      ]
     },
     "execution_count": 3,
     "metadata": {},
     "output_type": "execute_result"
    }
   ],
   "source": [
    "df.head(5)"
   ]
  },
  {
   "cell_type": "code",
   "execution_count": 4,
   "id": "6e420d94",
   "metadata": {},
   "outputs": [
    {
     "data": {
      "text/plain": [
       "<bound method DataFrame.info of      Invoice ID Branch       City Customer Type  Gender  \\\n",
       "0        352860      C  Naypyitaw        Normal  Female   \n",
       "1        720146      A     Yangon        Member    Male   \n",
       "2        660949      C     Yangon        Member  Female   \n",
       "3        516775      C     Yangon        Normal    Male   \n",
       "4        936824      A     Yangon        Member  Female   \n",
       "..          ...    ...        ...           ...     ...   \n",
       "295      700013      B     Yangon        Member  Female   \n",
       "296      730655      B  Naypyitaw        Member  Female   \n",
       "297      248506      B     Yangon        Member  Female   \n",
       "298      274927      B  Naypyitaw        Member  Female   \n",
       "299      386273      B     Yangon        Normal    Male   \n",
       "\n",
       "               Product Line  Unit Price  Quantity   Tax 5%     Total  \\\n",
       "0        Home and lifestyle       53.63         5  13.4075  281.5575   \n",
       "1         Health and beauty       56.12         4  11.2240  235.7040   \n",
       "2    Electronic accessories       76.75         6  23.0250  483.5250   \n",
       "3         Sports and travel       72.90         3  10.9350  229.6350   \n",
       "4        Home and lifestyle       46.23         9  20.8035  436.8735   \n",
       "..                      ...         ...       ...      ...       ...   \n",
       "295  Electronic accessories       88.12         7  30.8420  647.6820   \n",
       "296     Fashion accessories       96.69         9  43.5105  913.7205   \n",
       "297      Home and lifestyle       12.82         5   3.2050   67.3050   \n",
       "298     Fashion accessories       75.81         1   3.7905   79.6005   \n",
       "299       Health and beauty       91.86         7  32.1510  675.1710   \n",
       "\n",
       "           Date      Payment  Rating  \n",
       "0    2023-01-15      Ewallet     7.3  \n",
       "1    2023-01-21  Credit card     8.4  \n",
       "2    2023-01-19         Cash     7.7  \n",
       "3    2023-03-01  Credit card     5.1  \n",
       "4    2023-03-30  Credit card     6.1  \n",
       "..          ...          ...     ...  \n",
       "295  2023-03-07      Ewallet     8.0  \n",
       "296  2023-01-25  Credit card     5.6  \n",
       "297  2023-02-23  Credit card     9.4  \n",
       "298  2023-02-02      Ewallet     8.0  \n",
       "299  2023-02-05         Cash     7.4  \n",
       "\n",
       "[300 rows x 13 columns]>"
      ]
     },
     "execution_count": 4,
     "metadata": {},
     "output_type": "execute_result"
    }
   ],
   "source": [
    "df.info"
   ]
  },
  {
   "cell_type": "code",
   "execution_count": 5,
   "id": "792efce0",
   "metadata": {},
   "outputs": [
    {
     "data": {
      "application/vnd.microsoft.datawrangler.viewer.v0+json": {
       "columns": [
        {
         "name": "index",
         "rawType": "object",
         "type": "string"
        },
        {
         "name": "Invoice ID",
         "rawType": "float64",
         "type": "float"
        },
        {
         "name": "Unit Price",
         "rawType": "float64",
         "type": "float"
        },
        {
         "name": "Quantity",
         "rawType": "float64",
         "type": "float"
        },
        {
         "name": "Tax 5%",
         "rawType": "float64",
         "type": "float"
        },
        {
         "name": "Total",
         "rawType": "float64",
         "type": "float"
        },
        {
         "name": "Rating",
         "rawType": "float64",
         "type": "float"
        }
       ],
       "ref": "055948dd-20e0-4123-9fa5-7d1387b3b01a",
       "rows": [
        [
         "count",
         "300.0",
         "300.0",
         "300.0",
         "300.0",
         "300.0",
         "300.0"
        ],
        [
         "mean",
         "542011.68",
         "55.60656666666667",
         "4.993333333333333",
         "13.789403333333333",
         "289.57747",
         "7.033333333333333"
        ],
        [
         "std",
         "266617.6932800927",
         "27.243700751691474",
         "2.6501635380008883",
         "10.551001107963947",
         "221.57102326724288",
         "1.6967080724644734"
        ],
        [
         "min",
         "109155.0",
         "10.02",
         "1.0",
         "0.5105000000000001",
         "10.7205",
         "4.0"
        ],
        [
         "25%",
         "293977.75",
         "32.4475",
         "2.75",
         "5.2017500000000005",
         "109.23675",
         "5.6"
        ],
        [
         "50%",
         "553417.5",
         "56.730000000000004",
         "5.0",
         "10.76725",
         "226.11225000000002",
         "7.1"
        ],
        [
         "75%",
         "765930.25",
         "79.39",
         "7.0",
         "20.821875",
         "437.259375",
         "8.5"
        ],
        [
         "max",
         "997207.0",
         "99.94",
         "9.0",
         "44.65350000000001",
         "937.7235",
         "10.0"
        ]
       ],
       "shape": {
        "columns": 6,
        "rows": 8
       }
      },
      "text/html": [
       "<div>\n",
       "<style scoped>\n",
       "    .dataframe tbody tr th:only-of-type {\n",
       "        vertical-align: middle;\n",
       "    }\n",
       "\n",
       "    .dataframe tbody tr th {\n",
       "        vertical-align: top;\n",
       "    }\n",
       "\n",
       "    .dataframe thead th {\n",
       "        text-align: right;\n",
       "    }\n",
       "</style>\n",
       "<table border=\"1\" class=\"dataframe\">\n",
       "  <thead>\n",
       "    <tr style=\"text-align: right;\">\n",
       "      <th></th>\n",
       "      <th>Invoice ID</th>\n",
       "      <th>Unit Price</th>\n",
       "      <th>Quantity</th>\n",
       "      <th>Tax 5%</th>\n",
       "      <th>Total</th>\n",
       "      <th>Rating</th>\n",
       "    </tr>\n",
       "  </thead>\n",
       "  <tbody>\n",
       "    <tr>\n",
       "      <th>count</th>\n",
       "      <td>300.00000</td>\n",
       "      <td>300.000000</td>\n",
       "      <td>300.000000</td>\n",
       "      <td>300.000000</td>\n",
       "      <td>300.000000</td>\n",
       "      <td>300.000000</td>\n",
       "    </tr>\n",
       "    <tr>\n",
       "      <th>mean</th>\n",
       "      <td>542011.68000</td>\n",
       "      <td>55.606567</td>\n",
       "      <td>4.993333</td>\n",
       "      <td>13.789403</td>\n",
       "      <td>289.577470</td>\n",
       "      <td>7.033333</td>\n",
       "    </tr>\n",
       "    <tr>\n",
       "      <th>std</th>\n",
       "      <td>266617.69328</td>\n",
       "      <td>27.243701</td>\n",
       "      <td>2.650164</td>\n",
       "      <td>10.551001</td>\n",
       "      <td>221.571023</td>\n",
       "      <td>1.696708</td>\n",
       "    </tr>\n",
       "    <tr>\n",
       "      <th>min</th>\n",
       "      <td>109155.00000</td>\n",
       "      <td>10.020000</td>\n",
       "      <td>1.000000</td>\n",
       "      <td>0.510500</td>\n",
       "      <td>10.720500</td>\n",
       "      <td>4.000000</td>\n",
       "    </tr>\n",
       "    <tr>\n",
       "      <th>25%</th>\n",
       "      <td>293977.75000</td>\n",
       "      <td>32.447500</td>\n",
       "      <td>2.750000</td>\n",
       "      <td>5.201750</td>\n",
       "      <td>109.236750</td>\n",
       "      <td>5.600000</td>\n",
       "    </tr>\n",
       "    <tr>\n",
       "      <th>50%</th>\n",
       "      <td>553417.50000</td>\n",
       "      <td>56.730000</td>\n",
       "      <td>5.000000</td>\n",
       "      <td>10.767250</td>\n",
       "      <td>226.112250</td>\n",
       "      <td>7.100000</td>\n",
       "    </tr>\n",
       "    <tr>\n",
       "      <th>75%</th>\n",
       "      <td>765930.25000</td>\n",
       "      <td>79.390000</td>\n",
       "      <td>7.000000</td>\n",
       "      <td>20.821875</td>\n",
       "      <td>437.259375</td>\n",
       "      <td>8.500000</td>\n",
       "    </tr>\n",
       "    <tr>\n",
       "      <th>max</th>\n",
       "      <td>997207.00000</td>\n",
       "      <td>99.940000</td>\n",
       "      <td>9.000000</td>\n",
       "      <td>44.653500</td>\n",
       "      <td>937.723500</td>\n",
       "      <td>10.000000</td>\n",
       "    </tr>\n",
       "  </tbody>\n",
       "</table>\n",
       "</div>"
      ],
      "text/plain": [
       "         Invoice ID  Unit Price    Quantity      Tax 5%       Total  \\\n",
       "count     300.00000  300.000000  300.000000  300.000000  300.000000   \n",
       "mean   542011.68000   55.606567    4.993333   13.789403  289.577470   \n",
       "std    266617.69328   27.243701    2.650164   10.551001  221.571023   \n",
       "min    109155.00000   10.020000    1.000000    0.510500   10.720500   \n",
       "25%    293977.75000   32.447500    2.750000    5.201750  109.236750   \n",
       "50%    553417.50000   56.730000    5.000000   10.767250  226.112250   \n",
       "75%    765930.25000   79.390000    7.000000   20.821875  437.259375   \n",
       "max    997207.00000   99.940000    9.000000   44.653500  937.723500   \n",
       "\n",
       "           Rating  \n",
       "count  300.000000  \n",
       "mean     7.033333  \n",
       "std      1.696708  \n",
       "min      4.000000  \n",
       "25%      5.600000  \n",
       "50%      7.100000  \n",
       "75%      8.500000  \n",
       "max     10.000000  "
      ]
     },
     "execution_count": 5,
     "metadata": {},
     "output_type": "execute_result"
    }
   ],
   "source": [
    "df.describe()"
   ]
  },
  {
   "cell_type": "code",
   "execution_count": 14,
   "id": "f94e50e5",
   "metadata": {},
   "outputs": [
    {
     "data": {
      "image/png": "[encoded data removed]",
      "text/plain": [
       "<Figure size 1000x600 with 1 Axes>"
      ]
     },
     "metadata": {},
     "output_type": "display_data"
    }
   ],
   "source": [
    "top_c=df.groupby('Customer Type')['Total'].sum()\n",
    "top_c=top_c.sort_values(ascending=False)\n",
    "plt.figure(figsize=(10,6))\n",
    "sns.barplot(x=top_c.index,y=top_c.values)\n",
    "plt.title(\"Customer Spending by Type\")\n",
    "plt.xlabel(\"Customer Type\")\n",
    "plt.ylabel(\"Total Spend\")\n",
    "plt.tight_layout()\n",
    "plt.savefig(\"customer_spending.png\")\n"
   ]
  },
  {
   "cell_type": "code",
   "execution_count": 16,
   "id": "81c637bb",
   "metadata": {},
   "outputs": [],
   "source": [
    "import datetime as dt\n",
    "\n",
    "df['Date'] = pd.to_datetime(df['Date'])\n",
    "snapshot_date = df['Date'].max() + dt.timedelta(days=1)\n",
    "\n",
    "rfm = df.groupby('Customer Type').agg({\n",
    "    'Date': lambda x: (snapshot_date - x.max()).days,\n",
    "    'Invoice ID': 'count',\n",
    "    'Total': 'sum'\n",
    "}).rename(columns={'Date': 'Recency', 'Invoice ID': 'Frequency', 'Total': 'Monetary'})\n"
   ]
  },
  {
   "cell_type": "code",
   "execution_count": 20,
   "id": "d8e290cd",
   "metadata": {},
   "outputs": [],
   "source": [
    "\n",
    "def _score_series(s, reverse=False):\n",
    "    # reverse=True means smaller values are better (recency)\n",
    "    ranks = s.rank(method='dense', ascending=not reverse)\n",
    "    max_rank = ranks.max()\n",
    "    min_rank = ranks.min()\n",
    "    if max_rank == min_rank:\n",
    "        # all values identical -> give a neutral middle score\n",
    "        return pd.Series([3] * len(s), index=s.index)\n",
    "    scaled = 1 + ((ranks - min_rank) / (max_rank - min_rank) * 4)  # scale to 1..5\n",
    "    return scaled.round().astype(int)\n",
    "\n",
    "rfm['R_Score'] = _score_series(rfm['Recency'], reverse=True)\n",
    "rfm['F_Score'] = _score_series(rfm['Frequency'], reverse=False)\n",
    "rfm['M_Score'] = _score_series(rfm['Monetary'], reverse=False)\n",
    "\n",
    "rfm['RFM_Score'] = rfm['R_Score'].astype(str) + rfm['F_Score'].astype(str) + rfm['M_Score'].astype(str)\n",
    "rfm['RFM_Sum'] = rfm[['R_Score', 'F_Score', 'M_Score']].sum(axis=1)"
   ]
  },
  {
   "cell_type": "code",
   "execution_count": 21,
   "id": "73fcbd19",
   "metadata": {},
   "outputs": [],
   "source": [
    "rfm['RFM_Score'] = rfm[['R_Score', 'F_Score', 'M_Score']].sum(axis=1)\n"
   ]
  },
  {
   "cell_type": "code",
   "execution_count": 22,
   "id": "7d987392",
   "metadata": {},
   "outputs": [],
   "source": [
    "rfm['Segment'] = pd.cut(\n",
    "    rfm['RFM_Score'],\n",
    "    bins=[2, 6, 9, 12, 15],\n",
    "    labels=['Low Value', 'Mid Value', 'High Value', 'Top Customers']\n",
    ")\n"
   ]
  },
  {
   "cell_type": "code",
   "execution_count": 34,
   "id": "c1e11807",
   "metadata": {},
   "outputs": [
    {
     "data": {
      "image/png": "[encoded data removed]",
      "text/plain": [
       "<Figure size 800x600 with 1 Axes>"
      ]
     },
     "metadata": {},
     "output_type": "display_data"
    }
   ],
   "source": [
    "plt.figure(figsize=(8,6))\n",
    "rfm['Segment'].value_counts().plot(kind='bar', color='teal')\n",
    "plt.title('Customer Segments by RFM Score')\n",
    "plt.xlabel('Segment')\n",
    "plt.ylabel('Number of Customers')\n",
    "plt.tight_layout()\n",
    "plt.savefig(\"Customer segmentsby RFM score.png\" )"
   ]
  },
  {
   "cell_type": "code",
   "execution_count": 29,
   "id": "f3334224",
   "metadata": {},
   "outputs": [],
   "source": [
    "from sklearn.preprocessing import StandardScaler\n",
    "\n",
    "scaler = StandardScaler()\n",
    "rfm_scaled = scaler.fit_transform(rfm[['Recency', 'Frequency', 'Monetary']])\n",
    "\n",
    "from sklearn.cluster import KMeans\n",
    "\n",
    "kmeans = KMeans(n_clusters=2, random_state=42)\n",
    "rfm['Cluster'] = kmeans.fit_predict(rfm_scaled)\n"
   ]
  },
  {
   "cell_type": "code",
   "execution_count": 33,
   "id": "62c3eb07",
   "metadata": {},
   "outputs": [
    {
     "data": {
      "image/png": "[encoded data removed]",
      "text/plain": [
       "<Figure size 800x600 with 1 Axes>"
      ]
     },
     "metadata": {},
     "output_type": "display_data"
    }
   ],
   "source": [
    "plt.figure(figsize=(8,6))\n",
    "sns.scatterplot(\n",
    "    x=rfm['Frequency'],\n",
    "    y=rfm['Monetary'],\n",
    "    hue=rfm['Cluster'],\n",
    "    palette='Set1',\n",
    "    s=80,\n",
    "    alpha=0.8\n",
    ")\n",
    "plt.title('K-Means Customer Segmentation (Frequency vs. Monetary)')\n",
    "plt.xlabel('Frequency')\n",
    "plt.ylabel('Monetary')\n",
    "plt.legend(title='Cluster')\n",
    "plt.savefig(\"KMeans Customer segmntation.png\")\n",
    "\n"
   ]
  },
  {
   "cell_type": "code",
   "execution_count": 32,
   "id": "fb246672",
   "metadata": {},
   "outputs": [
    {
     "data": {
      "application/vnd.microsoft.datawrangler.viewer.v0+json": {
       "columns": [
        {
         "name": "Cluster",
         "rawType": "int32",
         "type": "integer"
        },
        {
         "name": "Recency",
         "rawType": "float64",
         "type": "float"
        },
        {
         "name": "Frequency",
         "rawType": "float64",
         "type": "float"
        },
        {
         "name": "Monetary",
         "rawType": "float64",
         "type": "float"
        }
       ],
       "ref": "45e8bf29-9f10-4680-8446-71b01a7881d0",
       "rows": [
        [
         "0",
         "1.0",
         "161.0",
         "51636.2385"
        ],
        [
         "1",
         "1.0",
         "139.0",
         "35237.0025"
        ]
       ],
       "shape": {
        "columns": 3,
        "rows": 2
       }
      },
      "text/html": [
       "<div>\n",
       "<style scoped>\n",
       "    .dataframe tbody tr th:only-of-type {\n",
       "        vertical-align: middle;\n",
       "    }\n",
       "\n",
       "    .dataframe tbody tr th {\n",
       "        vertical-align: top;\n",
       "    }\n",
       "\n",
       "    .dataframe thead th {\n",
       "        text-align: right;\n",
       "    }\n",
       "</style>\n",
       "<table border=\"1\" class=\"dataframe\">\n",
       "  <thead>\n",
       "    <tr style=\"text-align: right;\">\n",
       "      <th></th>\n",
       "      <th>Recency</th>\n",
       "      <th>Frequency</th>\n",
       "      <th>Monetary</th>\n",
       "    </tr>\n",
       "    <tr>\n",
       "      <th>Cluster</th>\n",
       "      <th></th>\n",
       "      <th></th>\n",
       "      <th></th>\n",
       "    </tr>\n",
       "  </thead>\n",
       "  <tbody>\n",
       "    <tr>\n",
       "      <th>0</th>\n",
       "      <td>1.0</td>\n",
       "      <td>161.0</td>\n",
       "      <td>51636.2385</td>\n",
       "    </tr>\n",
       "    <tr>\n",
       "      <th>1</th>\n",
       "      <td>1.0</td>\n",
       "      <td>139.0</td>\n",
       "      <td>35237.0025</td>\n",
       "    </tr>\n",
       "  </tbody>\n",
       "</table>\n",
       "</div>"
      ],
      "text/plain": [
       "         Recency  Frequency    Monetary\n",
       "Cluster                                \n",
       "0            1.0      161.0  51636.2385\n",
       "1            1.0      139.0  35237.0025"
      ]
     },
     "execution_count": 32,
     "metadata": {},
     "output_type": "execute_result"
    }
   ],
   "source": [
    "rfm.groupby('Cluster')[['Recency', 'Frequency', 'Monetary']].mean()\n"
   ]
  }
 ],
 "metadata": {
  "kernelspec": {
   "display_name": "Python 3",
   "language": "python",
   "name": "python3"
  },
  "language_info": {
   "codemirror_mode": {
    "name": "ipython",
    "version": 3
   },
   "file_extension": ".py",
   "mimetype": "text/x-python",
   "name": "python",
   "nbconvert_exporter": "python",
   "pygments_lexer": "ipython3",
   "version": "3.12.10"
  }
 },
 "nbformat": 4,
 "nbformat_minor": 5
}
